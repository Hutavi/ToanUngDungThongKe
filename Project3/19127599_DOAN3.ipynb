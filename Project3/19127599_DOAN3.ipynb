{
 "cells": [
  {
   "cell_type": "code",
   "execution_count": null,
   "id": "1229ef63",
   "metadata": {},
   "outputs": [],
   "source": [
    "import numpy as np\n",
    "import matplotlib.pyplot as plt\n",
    "from sklearn import svm\n",
    "from sklearn.linear_model import LinearRegression\n",
    "from sklearn import metrics\n",
    "import pandas as pd\n",
    "from sklearn.model_selection import cross_val_score\n",
    "from itertools import combinations\n",
    "import itertools\n",
    "from sklearn.model_selection import KFold"
   ]
  },
  {
   "cell_type": "code",
   "execution_count": null,
   "id": "3ab1653b",
   "metadata": {},
   "outputs": [],
   "source": [
    "df = pd.read_csv('wine.csv', sep=';')\n",
    "df"
   ]
  },
  {
   "cell_type": "code",
   "execution_count": null,
   "id": "3456550f",
   "metadata": {},
   "outputs": [],
   "source": [
    "def preprocess(x, y):\n",
    "    A = np.hstack((np.ones((x.shape[0], 1)), x))\n",
    "    \n",
    "    return A, y\n",
    "def ols_linear_regression(A, b):\n",
    "    A_pinv = np.linalg.inv(A.T @ A) @ A.T    # np.linalg.pinv(A)\n",
    "    x = A_pinv @ b\n",
    "    \n",
    "    return x\n",
    "def plot_regression(x, y):\n",
    "    A, b = preprocess(x, y)\n",
    "    \n",
    "    weight = ols_linear_regression(A, b)\n",
    "    \n",
    "    # Plot data\n",
    "    plt.scatter(x, y, color='b', marker='o')\n",
    "  \n",
    "    # Plot regression line\n",
    "    y_pred = weight[0] + weight[1] * x\n",
    "    plt.plot(x, y_pred, color='r', label='y = {:.2f} + {:.2f}*x'.format(weight[0][0], weight[1][0]))\n",
    "  \n",
    "    plt.xlabel('x')\n",
    "    plt.ylabel('y')\n",
    "    plt.legend(loc='lower right')\n",
    "    \n",
    "    plt.show()"
   ]
  },
  {
   "cell_type": "code",
   "execution_count": null,
   "id": "71a7f0b7",
   "metadata": {},
   "outputs": [],
   "source": [
    "#Câu 1a:\n",
    "x = df.iloc[:, 0:11].values\n",
    "y = df.iloc[:, 11].values\n",
    "A, b = preprocess(x, y)\n",
    "ols_linear_regression(A, b)           #kết quả"
   ]
  },
  {
   "cell_type": "code",
   "execution_count": null,
   "id": "a47726ec",
   "metadata": {},
   "outputs": [],
   "source": [
    "print(np.linalg.norm(A@ols_linear_regression(A, b) - b))       #độ lỗi"
   ]
  },
  {
   "cell_type": "code",
   "execution_count": null,
   "id": "8cb8ccb3",
   "metadata": {
    "scrolled": true
   },
   "outputs": [],
   "source": [
    "#Câu 1b\n",
    "B = []\n",
    "scores = []\n",
    "for i in range(11):\n",
    "    X = df.iloc[:, [i]].values\n",
    "    clf = svm.SVC(kernel='linear', C=1, random_state=13)\n",
    "    scores = cross_val_score(clf, X, y, cv=5)\n",
    "    print(scores)\n",
    "    B = B + [np.mean(scores)]        #mean "
   ]
  },
  {
   "cell_type": "code",
   "execution_count": null,
   "id": "e44df594",
   "metadata": {},
   "outputs": [],
   "source": [
    "B"
   ]
  },
  {
   "cell_type": "code",
   "execution_count": null,
   "id": "7831224b",
   "metadata": {},
   "outputs": [],
   "source": [
    "def tim_min(A):\n",
    "    t = np.min(A)\n",
    "    b = c = 0\n",
    "    for i in range(11):\n",
    "        b = A[i]\n",
    "        if (b == t):\n",
    "            c = i\n",
    "    return c\n",
    "\n",
    "temp = tim_min(B)"
   ]
  },
  {
   "cell_type": "code",
   "execution_count": null,
   "id": "1635c824",
   "metadata": {},
   "outputs": [],
   "source": [
    "X_b = df.iloc[:, temp].values.reshape(-1, 1)"
   ]
  },
  {
   "cell_type": "code",
   "execution_count": null,
   "id": "b569f266",
   "metadata": {},
   "outputs": [],
   "source": [
    "B_b, b_b = preprocess(X_b, y)"
   ]
  },
  {
   "cell_type": "code",
   "execution_count": null,
   "id": "93374df9",
   "metadata": {},
   "outputs": [],
   "source": [
    "ols_linear_regression(B_b, b_b)"
   ]
  },
  {
   "cell_type": "code",
   "execution_count": null,
   "id": "625ff05b",
   "metadata": {},
   "outputs": [],
   "source": [
    "print(np.linalg.norm(B_b@ols_linear_regression(B_b, b_b) - b_b))"
   ]
  },
  {
   "cell_type": "code",
   "execution_count": null,
   "id": "7fee814e",
   "metadata": {},
   "outputs": [],
   "source": [
    "plot_regression(X_b, y.reshape(-1, 1))"
   ]
  },
  {
   "cell_type": "code",
   "execution_count": null,
   "id": "e6214b2d",
   "metadata": {},
   "outputs": [],
   "source": [
    "#Câu c\n",
    "def train_test(train, test, X, y):         #hàm tách x dùng để train câu c, dưới là phần của câu c\n",
    "    X_train = X[train]                        \n",
    "    y_train = y[train]\n",
    "    X_test = X[test]\n",
    "    y_test = y[test]\n",
    "    return X_train, X_test, y_train, y_test\n",
    "def MSE(X_train, y_train, X_test, y_test):    \n",
    "    Regressor = LinearRegression()              #bình phương nhỏ nhất trong hồi qui tuyến tính\n",
    "    Regressor.fit(X_train, y_train)\n",
    "    y_pred = Regressor.predict(X_test)\n",
    "    return metrics.mean_squared_error(y_pred, y_test)    #MSE\n",
    "\n",
    "C = [i for i in range(11)]        #tạo mảng comb chưa tất cả các trường hợp tổ hợp các cột \n",
    "Comb = []\n",
    "for i in range(1, 12):\n",
    "    comb = list(combinations(C, i))\n",
    "    Comb += [comb]\n",
    "    \n",
    "newComb = []                     #tổ hợp các trường hợp không lặp \n",
    "for x in Comb:                   \n",
    "    for Xith in x:\n",
    "        newComb += [np.array(Xith)]\n"
   ]
  },
  {
   "cell_type": "code",
   "execution_count": null,
   "id": "8b191644",
   "metadata": {},
   "outputs": [],
   "source": [
    "score = []\n",
    "kfold = KFold(n_splits = 5, random_state=13, shuffle=True)\n",
    "\n",
    "for attribute in newComb:\n",
    "    scoreI = []\n",
    "    X = df.iloc[:, attribute].values\n",
    "    for train, test in kfold.split(X):\n",
    "        X_train, X_test, y_train, y_test = train_test(train, test, X, y)\n",
    "        scoreI = scoreI + [MSE(X_train, y_train, X_test, y_test)]\n",
    "    score = score + [np.mean(np.array(scoreI))]\n",
    "    temp = temp + [scoreI]"
   ]
  },
  {
   "cell_type": "code",
   "execution_count": null,
   "id": "14647f10",
   "metadata": {},
   "outputs": [],
   "source": [
    "pos = score.index(min(score))\n",
    "pos"
   ]
  },
  {
   "cell_type": "code",
   "execution_count": null,
   "id": "6f012c3f",
   "metadata": {},
   "outputs": [],
   "source": [
    "newComb[pos]"
   ]
  },
  {
   "cell_type": "code",
   "execution_count": null,
   "id": "55f25915",
   "metadata": {},
   "outputs": [],
   "source": [
    "X_c = df.iloc[:, newComb[pos]].values\n",
    "A, b = preprocess(X_c, y)\n",
    "ols_linear_regression(A, b)"
   ]
  },
  {
   "cell_type": "code",
   "execution_count": null,
   "id": "d0fba1dd",
   "metadata": {},
   "outputs": [],
   "source": [
    "print(np.linalg.norm(A@ols_linear_regression(A, b) - b))"
   ]
  },
  {
   "cell_type": "code",
   "execution_count": null,
   "id": "cc5b7e0e",
   "metadata": {},
   "outputs": [],
   "source": [
    "(scoreI)"
   ]
  },
  {
   "cell_type": "code",
   "execution_count": null,
   "id": "b2e3df71",
   "metadata": {},
   "outputs": [],
   "source": [
    "np.mean(temp[5])"
   ]
  }
 ],
 "metadata": {
  "kernelspec": {
   "display_name": "Python 3 (ipykernel)",
   "language": "python",
   "name": "python3"
  },
  "language_info": {
   "codemirror_mode": {
    "name": "ipython",
    "version": 3
   },
   "file_extension": ".py",
   "mimetype": "text/x-python",
   "name": "python",
   "nbconvert_exporter": "python",
   "pygments_lexer": "ipython3",
   "version": "3.9.12"
  }
 },
 "nbformat": 4,
 "nbformat_minor": 5
}
