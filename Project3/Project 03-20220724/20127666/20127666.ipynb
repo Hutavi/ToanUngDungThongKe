{
 "cells": [
  {
   "cell_type": "markdown",
   "metadata": {},
   "source": [
    "# <center>Đồ án 3: Linear Regression</center>"
   ]
  },
  {
   "cell_type": "markdown",
   "metadata": {},
   "source": [
    "# Thông tin sinh viên\n",
    "\n",
    "- Họ và tên: Huỳnh Tấn Vinh\n",
    "- MSSV: 20127666\n",
    "- Lớp: 20CLC08"
   ]
  },
  {
   "cell_type": "markdown",
   "metadata": {},
   "source": [
    "# Import"
   ]
  },
  {
   "cell_type": "code",
   "execution_count": 1,
   "metadata": {},
   "outputs": [],
   "source": [
    "import pandas as pd\n",
    "import numpy as np\n",
    "import random\n",
    "import matplotlib.pyplot as plt\n",
    "\n",
    "\n",
    "# Import thêm dữ thư viện nếu cần"
   ]
  },
  {
   "cell_type": "code",
   "execution_count": 2,
   "metadata": {},
   "outputs": [
    {
     "data": {
      "text/html": [
       "<div>\n",
       "<style scoped>\n",
       "    .dataframe tbody tr th:only-of-type {\n",
       "        vertical-align: middle;\n",
       "    }\n",
       "\n",
       "    .dataframe tbody tr th {\n",
       "        vertical-align: top;\n",
       "    }\n",
       "\n",
       "    .dataframe thead th {\n",
       "        text-align: right;\n",
       "    }\n",
       "</style>\n",
       "<table border=\"1\" class=\"dataframe\">\n",
       "  <thead>\n",
       "    <tr style=\"text-align: right;\">\n",
       "      <th></th>\n",
       "      <th>Adult Mortality</th>\n",
       "      <th>BMI</th>\n",
       "      <th>Polio</th>\n",
       "      <th>Diphtheria</th>\n",
       "      <th>HIV/AIDS</th>\n",
       "      <th>GDP</th>\n",
       "      <th>Thinness age 10-19</th>\n",
       "      <th>Thinness age 5-9</th>\n",
       "      <th>Income composition of resources</th>\n",
       "      <th>Schooling</th>\n",
       "      <th>Life expectancy</th>\n",
       "    </tr>\n",
       "  </thead>\n",
       "  <tbody>\n",
       "    <tr>\n",
       "      <th>0</th>\n",
       "      <td>268.0</td>\n",
       "      <td>18.1</td>\n",
       "      <td>62.0</td>\n",
       "      <td>64.0</td>\n",
       "      <td>0.1</td>\n",
       "      <td>631.744976</td>\n",
       "      <td>17.7</td>\n",
       "      <td>17.7</td>\n",
       "      <td>0.470</td>\n",
       "      <td>9.9</td>\n",
       "      <td>59.9</td>\n",
       "    </tr>\n",
       "    <tr>\n",
       "      <th>1</th>\n",
       "      <td>272.0</td>\n",
       "      <td>17.6</td>\n",
       "      <td>67.0</td>\n",
       "      <td>67.0</td>\n",
       "      <td>0.1</td>\n",
       "      <td>669.959000</td>\n",
       "      <td>17.9</td>\n",
       "      <td>18.0</td>\n",
       "      <td>0.463</td>\n",
       "      <td>9.8</td>\n",
       "      <td>59.5</td>\n",
       "    </tr>\n",
       "    <tr>\n",
       "      <th>2</th>\n",
       "      <td>275.0</td>\n",
       "      <td>17.2</td>\n",
       "      <td>68.0</td>\n",
       "      <td>68.0</td>\n",
       "      <td>0.1</td>\n",
       "      <td>63.537231</td>\n",
       "      <td>18.2</td>\n",
       "      <td>18.2</td>\n",
       "      <td>0.454</td>\n",
       "      <td>9.5</td>\n",
       "      <td>59.2</td>\n",
       "    </tr>\n",
       "    <tr>\n",
       "      <th>3</th>\n",
       "      <td>279.0</td>\n",
       "      <td>16.7</td>\n",
       "      <td>66.0</td>\n",
       "      <td>66.0</td>\n",
       "      <td>0.1</td>\n",
       "      <td>553.328940</td>\n",
       "      <td>18.4</td>\n",
       "      <td>18.4</td>\n",
       "      <td>0.448</td>\n",
       "      <td>9.2</td>\n",
       "      <td>58.8</td>\n",
       "    </tr>\n",
       "    <tr>\n",
       "      <th>4</th>\n",
       "      <td>281.0</td>\n",
       "      <td>16.2</td>\n",
       "      <td>63.0</td>\n",
       "      <td>63.0</td>\n",
       "      <td>0.1</td>\n",
       "      <td>445.893298</td>\n",
       "      <td>18.6</td>\n",
       "      <td>18.7</td>\n",
       "      <td>0.434</td>\n",
       "      <td>8.9</td>\n",
       "      <td>58.6</td>\n",
       "    </tr>\n",
       "  </tbody>\n",
       "</table>\n",
       "</div>"
      ],
      "text/plain": [
       "   Adult Mortality   BMI  Polio  Diphtheria  HIV/AIDS         GDP  \\\n",
       "0            268.0  18.1   62.0        64.0       0.1  631.744976   \n",
       "1            272.0  17.6   67.0        67.0       0.1  669.959000   \n",
       "2            275.0  17.2   68.0        68.0       0.1   63.537231   \n",
       "3            279.0  16.7   66.0        66.0       0.1  553.328940   \n",
       "4            281.0  16.2   63.0        63.0       0.1  445.893298   \n",
       "\n",
       "   Thinness age 10-19  Thinness age 5-9  Income composition of resources  \\\n",
       "0                17.7              17.7                            0.470   \n",
       "1                17.9              18.0                            0.463   \n",
       "2                18.2              18.2                            0.454   \n",
       "3                18.4              18.4                            0.448   \n",
       "4                18.6              18.7                            0.434   \n",
       "\n",
       "   Schooling  Life expectancy  \n",
       "0        9.9             59.9  \n",
       "1        9.8             59.5  \n",
       "2        9.5             59.2  \n",
       "3        9.2             58.8  \n",
       "4        8.9             58.6  "
      ]
     },
     "execution_count": 2,
     "metadata": {},
     "output_type": "execute_result"
    }
   ],
   "source": [
    "import pandas as pd\n",
    "train = pd.read_csv('train.csv')\n",
    "train.head()"
   ]
  },
  {
   "cell_type": "markdown",
   "metadata": {},
   "source": [
    "# Đọc dữ liệu"
   ]
  },
  {
   "cell_type": "code",
   "execution_count": 3,
   "metadata": {},
   "outputs": [],
   "source": [
    "# Đọc dữ liệu bằng pandas\n",
    "train = pd.read_csv('train.csv')\n",
    "test = pd.read_csv('test.csv')\n",
    "\n",
    "# Lấy các đặc trưng X và giá trị mục tiêu y cho các tập huấn luyện (train) và kiểm tra (test)\n",
    "X_train = train.iloc[:, :-1]    # Dataframe (chứa 10 đặc trưng huấn luyện)\n",
    "y_train = train.iloc[:, -1]     # Series    (chứa 1 giá trị mục tiêu kiểm tra)\n",
    "\n",
    "X_test = test.iloc[:, :-1]      # Dataframe (chứa 10 đặc trưng kiểm tra)\n",
    "y_test = test.iloc[:, -1]       # Series    (chứa 1 giá trị mục tiêu kiểm tra)\n",
    "\n",
    "# Sinh viên có thể sử dụng các khác nếu cần"
   ]
  },
  {
   "cell_type": "markdown",
   "metadata": {},
   "source": [
    "# Cài đặt hàm"
   ]
  },
  {
   "cell_type": "code",
   "execution_count": 4,
   "metadata": {},
   "outputs": [],
   "source": [
    "# Cài đặt các hàm cần thiết ở đây\n",
    "xtrain = np.array(X_train)\n",
    "ytrain = np.array(y_train)\n",
    "\n",
    "xtest = np.array(X_test)\n",
    "ytest = np.array(y_test)\n",
    "\n"
   ]
  },
  {
   "cell_type": "code",
   "execution_count": 5,
   "metadata": {},
   "outputs": [],
   "source": [
    "class OLSLinearRegression:\n",
    "    # \n",
    "    def fit(self, X, y):\n",
    "        X_pinv = np.linalg.inv(X.T @ X) @ X.T\n",
    "        self.w = X_pinv @ y\n",
    "        return self\n",
    "    \n",
    "    def get_params(self):\n",
    "        return self.w\n",
    "    \n",
    "    def predict(self, X):\n",
    "        return np.sum(self.w.ravel() * X, axis=1)  "
   ]
  },
  {
   "cell_type": "code",
   "execution_count": 6,
   "metadata": {},
   "outputs": [],
   "source": [
    "#Tính lỗi trung bình phương gốc (root-mean-square - RMSE)\n",
    "def RMSE(y, y_hat):\n",
    "    return np.sqrt(np.mean((y.ravel() - y_hat.ravel())**2))"
   ]
  },
  {
   "cell_type": "markdown",
   "metadata": {},
   "source": [
    "# Yêu cầu 1a: Sử dụng toàn bộ 10 đặc trưng đề bài cung cấp (2 điểm) "
   ]
  },
  {
   "cell_type": "code",
   "execution_count": 7,
   "metadata": {},
   "outputs": [
    {
     "data": {
      "text/plain": [
       "array([ 1.51013627e-02,  9.02199807e-02,  4.29218175e-02,  1.39289117e-01,\n",
       "       -5.67332827e-01, -1.00765115e-04,  7.40713438e-01,  1.90935798e-01,\n",
       "        2.45059736e+01,  2.39351661e+00])"
      ]
     },
     "execution_count": 7,
     "metadata": {},
     "output_type": "execute_result"
    }
   ],
   "source": [
    "# Phần code cho yêu cầu 1a\n",
    "lr = OLSLinearRegression().fit(xtrain, ytrain)\n",
    "lr.get_params()"
   ]
  },
  {
   "cell_type": "code",
   "execution_count": 8,
   "metadata": {},
   "outputs": [
    {
     "data": {
      "text/plain": [
       "7.064046430584466"
      ]
     },
     "execution_count": 8,
     "metadata": {},
     "output_type": "execute_result"
    }
   ],
   "source": [
    "# Gọi hàm RMSE (tự cài đặt hoặc từ thư viện) trên tập kiểm tra\n",
    "y_hat = lr.predict(xtest) #kết quả của chương trình dự đoán \n",
    "RMSE(ytest, y_hat) #y_test "
   ]
  },
  {
   "cell_type": "markdown",
   "metadata": {},
   "source": [
    "Công thức hồi quy\n",
    "\n",
    "$$\\text{Life expectancy} = (1.51013627e-02 * Adult Mortality) + (9.02199807e-02 * BMI) + (4.29218175e-02 * Polio) + (1.39289117e-01 * Diphtheria) + (-5.67332827e-01 * HIV/AIDS) + (-1.00765115e-04 * GDP) + (7.40713438e-01 * Thinness age 10-19) + (1.90935798e-01 * Thinness age 5-9) + (2.45059736e+01 * Income composition of resources) + (2.39351661e+00 * Schooling)$$"
   ]
  },
  {
   "cell_type": "markdown",
   "metadata": {},
   "source": [
    "# Yêu cầu 1b: Xây dựng mô hình sử dụng duy nhất 1 đặc trưng, tìm mô hình cho kết quả tốt nhất (2 điểm)"
   ]
  },
  {
   "cell_type": "markdown",
   "metadata": {},
   "source": [
    "Lưu ý: khi sử dụng cross-validation, sinh viên cần xáo trộn dữ liệu 1 lần duy nhất và thực hiện trên toàn bộ đặc trưng"
   ]
  },
  {
   "cell_type": "code",
   "execution_count": 9,
   "metadata": {},
   "outputs": [],
   "source": [
    "# Phần code cho yêu cầu 1b\n",
    "# In ra các kết quả cross-validation như yêu cầu\n",
    "def CrossValidationHandle(X_train_feature, y_train_feature, split_fold):  \n",
    "    \n",
    "    number_of_sample = X_train_feature.shape[0]\n",
    "    set_n_data = number_of_sample / split_fold\n",
    "    rmse_temp = 0\n",
    "    rmse = 0\n",
    "    for i in range (split_fold):\n",
    "        _start = int(i * set_n_data)\n",
    "        _end = int((i + 1) * set_n_data)\n",
    "        \n",
    "        X_value = X_train_feature[_start:_end]\n",
    "        y_value = y_train_feature[_start:_end]\n",
    "        \n",
    "        X_Ktrain_feature = np.array([*X_train_feature[:_start], *X_train_feature[_end:]]) \n",
    "        y_Ktrain_feature = np.array([*y_train_feature[:_start], *y_train_feature[_end:]])\n",
    "        lr.fit(X_Ktrain_feature, y_Ktrain_feature)\n",
    "        \n",
    "        y_value_predict = lr.predict(X_value)\n",
    "        \n",
    "        rmse_temp += RMSE(y_value, y_value_predict)\n",
    "        rmse = rmse_temp / split_fold \n",
    "    return rmse\n",
    "    "
   ]
  },
  {
   "cell_type": "code",
   "execution_count": 10,
   "metadata": {},
   "outputs": [],
   "source": [
    "# Tìm ra đặc trưng tốt nhất\n",
    "number_of_lines = X_train.shape[0]\n",
    "array_line = list(range(0, number_of_lines))\n",
    "random.shuffle(array_line)\n",
    "rmse_value = np.zeros(10)\n",
    "split_fold = 5\n",
    "\n",
    "X_train_clone = []\n",
    "y_train_clone = []\n",
    "\n",
    "for index in range(X_train.shape[0]):\n",
    "    X_train_clone.append(xtrain[array_line[index]])\n",
    "    y_train_clone.append(ytrain[array_line[index]])\n",
    "\n",
    "X_train_clone = np.array(X_train_clone)\n",
    "y_train_clone = np.array(y_train_clone) \n",
    "\n",
    "for index in range(10):\n",
    "    X_train_feature = X_train_clone[:, index].copy().reshape((-1, 1))\n",
    "    y_train_feature = y_train_clone.copy()\n",
    "    rmse_value[index] = CrossValidationHandle(X_train_feature, y_train_feature, split_fold)\n",
    "index_best_feature = np.where(rmse_value == np.amin(rmse_value))[0][0]\n"
   ]
  },
  {
   "cell_type": "code",
   "execution_count": 11,
   "metadata": {},
   "outputs": [
    {
     "name": "stdout",
     "output_type": "stream",
     "text": [
      "RMSE:  [46.24043914 27.93630868 18.01605785 16.02689974 67.06364447 60.36394626\n",
      " 51.83799156 51.76711466 13.31283534 11.786606  ]\n",
      "Vị trí của đặc trưng tốt nhất:  9\n"
     ]
    }
   ],
   "source": [
    "# In ra các kết quả cross-validation như yêu cầu\n",
    "print(\"RMSE: \", rmse_value)\n",
    "\n",
    "#In ra đặc trưng tốt nhất\n",
    "print(\"Vị trí của đặc trưng tốt nhất: \", index_best_feature) \n",
    "\n"
   ]
  },
  {
   "cell_type": "code",
   "execution_count": 12,
   "metadata": {},
   "outputs": [
    {
     "data": {
      "text/plain": [
       "array([5.5573994])"
      ]
     },
     "execution_count": 12,
     "metadata": {},
     "output_type": "execute_result"
    }
   ],
   "source": [
    "# Huấn luyện lại mô hình best_feature_model với đặc trưng tốt nhất trên toàn bộ tập huấn luyện\n",
    "X_train_best_feature = X_train_clone[:,index_best_feature].copy().reshape((-1,1))\n",
    "lr.fit(X_train_best_feature, y_train_clone)\n",
    "lr.get_params()\n"
   ]
  },
  {
   "cell_type": "code",
   "execution_count": 13,
   "metadata": {},
   "outputs": [
    {
     "data": {
      "text/plain": [
       "10.260950391655376"
      ]
     },
     "execution_count": 13,
     "metadata": {},
     "output_type": "execute_result"
    }
   ],
   "source": [
    "# Gọi hàm RMSE (tự cài đặt hoặc từ thư viện) trên tập kiểm tra với mô hình best_feature_model\n",
    "y_best_predict = lr.predict(X_test.to_numpy()[:, index_best_feature].reshape(-1, 1))\n",
    "RMSE(y_test.copy(), y_best_predict)"
   ]
  },
  {
   "cell_type": "markdown",
   "metadata": {},
   "source": [
    "Công thức hồi quy\n",
    "\n",
    "$$\\text{Life expectancy} = Schooling * 5.5573994$$"
   ]
  },
  {
   "cell_type": "markdown",
   "metadata": {},
   "source": [
    "# Yêu cầu 1c: Sinh viên tự xây dựng mô hình, tìm mô hình cho kết quả tốt nhất (3 điểm)"
   ]
  },
  {
   "cell_type": "code",
   "execution_count": 14,
   "metadata": {
    "scrolled": true
   },
   "outputs": [
    {
     "name": "stdout",
     "output_type": "stream",
     "text": [
      "-0.685290066876047\n",
      "0.6106869049325891\n",
      "0.36570463313391016\n",
      "0.40679787281341867\n",
      "-0.5865777200247837\n",
      "0.4867608561696108\n",
      "-0.5036523346464049\n",
      "-0.5002309457544405\n",
      "0.779403572108283\n",
      "0.7548637211053559\n"
     ]
    }
   ],
   "source": [
    "#Tính độ tương quan\n",
    "corr = 0\n",
    "for i in range (10):\n",
    "    corr = np.corrcoef(xtrain[:,i], ytrain)[0, 1]\n",
    "    print(corr)"
   ]
  },
  {
   "cell_type": "code",
   "execution_count": 15,
   "metadata": {},
   "outputs": [
    {
     "name": "stdout",
     "output_type": "stream",
     "text": [
      "-0.589889204315234\n",
      "0.6774872626372263\n",
      "0.4929196499694736\n",
      "0.5234607846884396\n",
      "-0.3080360984786394\n",
      "0.3108651003258309\n",
      "-0.17045510027002106\n",
      "-0.1646907130960573\n",
      "0.8300236793420632\n",
      "0.708830248016597\n"
     ]
    }
   ],
   "source": [
    "corr = 0\n",
    "for i in range (10):\n",
    "    corr = np.corrcoef(xtrain[:,i]**3, ytrain)[0, 1]\n",
    "    print(corr)"
   ]
  },
  {
   "cell_type": "markdown",
   "metadata": {},
   "source": [
    "Lưu ý: khi sử dụng cross-validation, sinh viên cần xáo trộn dữ liệu 1 lần duy nhất và thực hiện trên toàn bộ $m$ mô hình mà sinh viên thiết kế"
   ]
  },
  {
   "cell_type": "code",
   "execution_count": 16,
   "metadata": {},
   "outputs": [
    {
     "name": "stdout",
     "output_type": "stream",
     "text": [
      "RMSE 1:  11.237448339156789\n"
     ]
    }
   ],
   "source": [
    "# Phần code cho yêu cầu 1c\n",
    "# Paradigm: Income composition of resources, Schooling\n",
    "rmse1 = 0\n",
    "# Tìm ra mô hình tốt nhất (tự thiết kế bởi sinh viên)\n",
    "X_train_clone1 = []\n",
    "y_train_clone1 = []\n",
    "\n",
    "number_of_lines = X_train.shape[0]\n",
    "array_line = list(range(0, number_of_lines))\n",
    "random.shuffle(array_line)\n",
    "\n",
    "for index in range(X_train.shape[0]):\n",
    "    X_train_clone1.append(xtrain[array_line[index]])\n",
    "    y_train_clone1.append(ytrain[array_line[index]])\n",
    "\n",
    "X_train_clone1 = np.array(X_train_clone)\n",
    "y_train_clone1 = np.array(y_train_clone)\n",
    "\n",
    "X_train_feature_Income = X_train_clone1[:, 8].copy().reshape((-1, 1))\n",
    "X_train_feature_Schooling = X_train_clone1[:, 9].copy().reshape((-1, 1))\n",
    "\n",
    "X_train_feature1 = np.column_stack((X_train_feature_Income, X_train_feature_Schooling))\n",
    "y_train_feature = y_train_clone1.copy()\n",
    "\n",
    "split_fold = 5\n",
    "\n",
    "rmse1 = CrossValidationHandle(X_train_feature1, y_train_feature, split_fold)\n",
    "\n",
    "# In ra các kết quả cross-validation như yêu cầu\n",
    "print(\"RMSE 1: \", rmse1)\n"
   ]
  },
  {
   "cell_type": "code",
   "execution_count": 17,
   "metadata": {},
   "outputs": [
    {
     "name": "stdout",
     "output_type": "stream",
     "text": [
      "RMSE 2:  9.677123828891265\n"
     ]
    }
   ],
   "source": [
    "# Paradigm: BMI, Income composition of resources, Schooling\n",
    "rmse2 = 0\n",
    "# Tìm ra mô hình tốt nhất (tự thiết kế bởi sinh viên)\n",
    "X_train_feature_BMI = X_train_clone[:, 1].copy().reshape((-1, 1))\n",
    "X_train_feature_Diphtheria = X_train_clone[:, 3].copy().reshape((-1, 1))\n",
    "X_train_feature_Income = X_train_clone[:, 8].copy().reshape((-1, 1))\n",
    "X_train_feature_Schooling = X_train_clone[:, 9].copy().reshape((-1, 1))\n",
    "\n",
    "X_train_feature2 = np.column_stack((X_train_feature_BMI, X_train_feature_Diphtheria, X_train_feature_Income, X_train_feature_Schooling))\n",
    "y_train_feature = y_train_clone.copy()\n",
    "\n",
    "split_fold = 5\n",
    "\n",
    "rmse2 = CrossValidationHandle(X_train_feature2, y_train_feature, split_fold)\n",
    "\n",
    "# In ra các kết quả cross-validation như yêu cầu\n",
    "print(\"RMSE 2: \", rmse2)"
   ]
  },
  {
   "cell_type": "code",
   "execution_count": 18,
   "metadata": {},
   "outputs": [
    {
     "name": "stdout",
     "output_type": "stream",
     "text": [
      "RMSE 3:  41.6291079301479\n"
     ]
    }
   ],
   "source": [
    "# Paradigm: Adult Mortality, HIV/AIDS, Thinness age 10-19, Thinness age 5-9\n",
    "rmse3 = 0\n",
    "# Tìm ra mô hình tốt nhất (tự thiết kế bởi sinh viên)\n",
    "X_train_feature_Adult = X_train_clone[:, 0].copy().reshape((-1, 1))\n",
    "X_train_feature_HIV_AIDS = X_train_clone[:, 4].copy().reshape((-1, 1))\n",
    "X_train_feature_Thinness_age_10_19 = X_train_clone[:, 6].copy().reshape((-1, 1))\n",
    "X_train_feature_Thinness_age_5_9 = X_train_clone[:, 7].copy().reshape((-1, 1))\n",
    "\n",
    "X_train_feature3 = np.column_stack((X_train_feature_Adult,X_train_feature_HIV_AIDS, X_train_feature_Thinness_age_10_19,X_train_feature_Thinness_age_5_9))\n",
    "y_train_feature = y_train_clone.copy()\n",
    "\n",
    "split_fold = 5\n",
    "\n",
    "rmse3 = CrossValidationHandle(X_train_feature3, y_train_feature, split_fold)\n",
    "\n",
    "# In ra các kết quả cross-validation như yêu cầu\n",
    "print(\"RMSE 3: \", rmse3)"
   ]
  },
  {
   "cell_type": "code",
   "execution_count": 19,
   "metadata": {},
   "outputs": [
    {
     "data": {
      "text/plain": [
       "array([-6.40259278e-03,  2.50004203e-01,  2.78218706e+01,  2.44185275e+00])"
      ]
     },
     "execution_count": 19,
     "metadata": {},
     "output_type": "execute_result"
    }
   ],
   "source": [
    "# Huấn luyện lại mô hình my_best_model trên toàn bộ tập huấn luyện\n",
    "X_train_best_feature2 = X_train_feature2\n",
    "lr.fit(X_train_best_feature2, y_train_clone)\n",
    "lr.get_params()"
   ]
  },
  {
   "cell_type": "code",
   "execution_count": 20,
   "metadata": {},
   "outputs": [
    {
     "data": {
      "text/plain": [
       "8.280332718815753"
      ]
     },
     "execution_count": 20,
     "metadata": {},
     "output_type": "execute_result"
    }
   ],
   "source": [
    "# Gọi hàm RMSE (tự cài đặt hoặc từ thư viện) trên tập kiểm tra với mô hình my_best_model\n",
    "# y_best_predict = lr.predict()\n",
    "X_train_feature_BMI = X_test.to_numpy()[:, 1].copy().reshape((-1, 1))\n",
    "X_train_feature_Diphtheria = X_test.to_numpy()[:, 3].copy().reshape((-1, 1))\n",
    "X_train_feature_Income = X_test.to_numpy()[:, 8].copy().reshape((-1, 1))\n",
    "X_train_feature_Schooling = X_test.to_numpy()[:, 9].copy().reshape((-1, 1))\n",
    "y_best_predict = lr.predict(np.column_stack((X_train_feature_BMI,X_train_feature_Diphtheria,X_train_feature_Income, X_train_feature_Schooling)))\n",
    "RMSE(y_test.copy(), y_best_predict)"
   ]
  },
  {
   "cell_type": "markdown",
   "metadata": {},
   "source": [
    "Công thức hồi quy\n",
    "\n",
    "$$\\text{Life expectancy} = (BMI * -6.40259278e-03) + (Diphtheria * 2.50004203e-01) + (Income composition of resources * 2.78218706e+01) + (Schooling * 2.44185275e+00)$$"
   ]
  }
 ],
 "metadata": {
  "kernelspec": {
   "display_name": "Python 3 (ipykernel)",
   "language": "python",
   "name": "python3"
  },
  "language_info": {
   "codemirror_mode": {
    "name": "ipython",
    "version": 3
   },
   "file_extension": ".py",
   "mimetype": "text/x-python",
   "name": "python",
   "nbconvert_exporter": "python",
   "pygments_lexer": "ipython3",
   "version": "3.9.12"
  },
  "vscode": {
   "interpreter": {
    "hash": "15af99fd1a1a3f0a3416ea421564e792a8676a13670c2eed127d89ab0518a27b"
   }
  }
 },
 "nbformat": 4,
 "nbformat_minor": 2
}
